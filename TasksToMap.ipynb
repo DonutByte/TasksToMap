{
  "nbformat": 4,
  "nbformat_minor": 0,
  "metadata": {
    "colab": {
      "provenance": []
    },
    "kernelspec": {
      "name": "python3",
      "display_name": "Python 3"
    },
    "language_info": {
      "name": "python"
    }
  },
  "cells": [
    {
      "cell_type": "code",
      "execution_count": null,
      "metadata": {
        "id": "61KEPRDiE-Pm"
      },
      "outputs": [],
      "source": [
        "####Params#####\n",
        "#google sheet with the tasks:\n",
        "URL = ''\n",
        "\n",
        "####Optional Params#####\n",
        "# the index (starts at 0) where the address column is\n",
        "# -1 means to look for column which the first cell is 'Address'\n",
        "ADDRESS_INDEX = -1\n",
        "# the index (starts at 0) of the worksheet to download\n",
        "WORKSHEET_INDEX = 0\n",
        "\n",
        "%cd /content\n",
        "#!pip install --upgrade -q gspread\n",
        "%rm -r TasksToMap &> /dev/null\n",
        "!git clone https://github.com/rangit3/TasksToMap.git\n",
        "\n",
        "from google.colab import auth\n",
        "import csv\n",
        "auth.authenticate_user()\n",
        "\n",
        "import gspread\n",
        "from google.auth import default\n",
        "creds, _ = default()\n",
        "\n",
        "gc = gspread.authorize(creds)\n",
        "sheet = gc.open_by_url(URL)\n",
        "worksheet = sheet.get_worksheet(WORKSHEET_INDEX)\n",
        "data = worksheet.get_all_values()\n",
        "\n",
        "with open('/content/TasksToMap/reports.csv', 'w', newline='') as csvfile:\n",
        "    writer = csv.writer(csvfile)\n",
        "    writer.writerows(data)\n",
        "\n",
        "#upload the input csv into the created folder, and name it as reports.csv\n",
        "%cd /content/TasksToMap\n",
        "!pip install -q -r requirements.txt\n",
        "print(\"\\nCode is running\\n\")\n",
        "!python main.py --index {ADDRESS_INDEX}\n",
        "\n",
        "#copy results to google drive:\n",
        "from google.colab import drive\n",
        "drive.mount(\"/content/drive\", force_remount=True)\n",
        "!cp reports_updated.csv /content/drive/MyDrive\n",
        "\n",
        "print(\"\\nDone. search for reports_updated.csv in your drive!\")"
      ]
    }
  ]
}